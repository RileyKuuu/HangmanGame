{
 "cells": [
  {
   "cell_type": "markdown",
   "metadata": {},
   "source": [
    "# Brick Tower with Numbers and Letters\n",
    "\n",
    "> Utilized concept: Loops, Generator\n",
    "\n",
    "The task is using numbers(0-9) and English letters(A-Z) to build brick tower with given inputs.\n",
    "\n",
    "Input 1 - How many layers in total<br>\n",
    "Input 2 - How many bricks are there on the first/top layer<br>\n",
    "<br>\n",
    "Output - The tower will be built following given criteria and this order: A -> ab -> 123 ...... which goes back to first letter if elements run out.<br>\n",
    "<br>\n",
    "Source: ccClub Judge"
   ]
  },
  {
   "cell_type": "code",
   "execution_count": 1,
   "metadata": {},
   "outputs": [
    {
     "name": "stdout",
     "output_type": "stream",
     "text": [
      "Example:\n",
      "      Input 1: 7 layers in total\n",
      "      Input 2: 1 brick on the top layer\n"
     ]
    },
    {
     "name": "stdout",
     "output_type": "stream",
     "text": [
      "A\n",
      "ab\n",
      "123\n",
      "BCDE\n",
      "cdefg\n",
      "456789\n",
      "FGHIJKL\n"
     ]
    }
   ],
   "source": [
    "'''\n",
    "Use Nested Loops\n",
    "'''\n",
    "print('''Example:\n",
    "      Input 1: 7 layers in total\n",
    "      Input 2: 1 brick on the top layer''')\n",
    "\n",
    "# Input 1 and Input 2 to specify criteria\n",
    "tiers, fst_tier = int(input()), int(input())\n",
    "# Counters for upper letters, lower letters, and numbers to keep track of the index of last element.\n",
    "upper_count, lower_count, num = 0, 0, 1\n",
    "\n",
    "# 1st Loop - layers of the tower\n",
    "for tier in range(1, tiers + 1):\n",
    "\n",
    "    # 2nd Loop - bricks on each layer\n",
    "    for n in range(tier + fst_tier - 1):\n",
    "\n",
    "        # Tier 1n is upper letter elements.\n",
    "        if tier % 3 == 1:\n",
    "            # Use modulo and counter to decide which element should be used\n",
    "            print(chr((upper_count % 26) + 65), end = '')\n",
    "            upper_count += 1\n",
    "\n",
    "        # Tier 2n is lower letter elements.\n",
    "        elif tier % 3 == 2:\n",
    "            print(chr((lower_count % 26) + 65).lower(), end = '')\n",
    "            lower_count += 1\n",
    "\n",
    "        # Tier 3n is Number elements.\n",
    "        else:\n",
    "            print((num % 10), end = '')\n",
    "            num += 1\n",
    "    print()\n"
   ]
  },
  {
   "cell_type": "code",
   "execution_count": 2,
   "metadata": {},
   "outputs": [
    {
     "name": "stdout",
     "output_type": "stream",
     "text": [
      "Example:\n",
      "      Input 1: 9 layers in total\n",
      "      Input 2: 3 brick on the top layer\n",
      "ABC\n",
      "abcd\n",
      "12345\n",
      "DEFGHI\n",
      "efghijk\n",
      "67890123\n",
      "JKLMNOPQR\n",
      "lmnopqrstu\n",
      "45678901234\n"
     ]
    }
   ],
   "source": [
    "'''\n",
    "Use Generator\n",
    "1. Can create infinite sequences without taking too much space.\n",
    "2. More efficient than traditional loops as they produce values one by one when you need them.\n",
    "'''\n",
    "print('''Example:\n",
    "      Input 1: 9 layers in total\n",
    "      Input 2: 3 brick on the top layer''')\n",
    "\n",
    "# Define generator function, using while loop to create infinite elements list.\n",
    "def gen(inp):\n",
    "    while True:\n",
    "        yield from inp\n",
    "\n",
    "# Input 1 and Input 2 to specify criteria\n",
    "tiers, fst_tier = int(input()), int(input())\n",
    "\n",
    "uppercase = gen([chr(i + 65) for i in range(26)])\n",
    "lowercase = gen([chr(i + 97) for i in range(26)])\n",
    "num = gen('1234567890')\n",
    "\n",
    "# Layers of the tower\n",
    "for tier in range(1, tiers + 1):\n",
    "\n",
    "    # Bricks on each layer - tier + fst_tier - 1\n",
    "    # Use next to get the next element from the list, as generators keep track of where you are in a loop.\n",
    "\n",
    "    # Tier 1n is upper letter elements.\n",
    "    if tier % 3 == 1:\n",
    "        print(''.join([next(uppercase) for _ in range(tier + fst_tier -1)]))\n",
    "\n",
    "    # Tier 2n is lower letter elements.\n",
    "    elif tier % 3 == 2:\n",
    "        print(''.join([next(lowercase) for _ in range(tier + fst_tier -1)]))\n",
    "\n",
    "    # Tier 3n is Number elements.\n",
    "    else:\n",
    "        print(''.join([next(num) for _ in range(tier + fst_tier -1)]))\n",
    "\n"
   ]
  }
 ],
 "metadata": {
  "kernelspec": {
   "display_name": "General",
   "language": "python",
   "name": "python3"
  },
  "language_info": {
   "codemirror_mode": {
    "name": "ipython",
    "version": 3
   },
   "file_extension": ".py",
   "mimetype": "text/x-python",
   "name": "python",
   "nbconvert_exporter": "python",
   "pygments_lexer": "ipython3",
   "version": "3.11.7"
  }
 },
 "nbformat": 4,
 "nbformat_minor": 2
}
