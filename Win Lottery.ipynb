{
 "cells": [
  {
   "cell_type": "markdown",
   "metadata": {},
   "source": [
    "# Claim a Prize for Taiwan Lottery\n",
    "> Utilized skills: dictionary, requests, define custom functions\n",
    "\n",
    "This is a demo of using Python to build lottery prize tool, which allows users to enter their numbers and claim the prize for Taiwan Lottery. Here using Lottery649 大樂透 for example.<br>\n",
    "<br>\n",
    "It will return the real-time lottery results."
   ]
  },
  {
   "cell_type": "code",
   "execution_count": 1,
   "metadata": {},
   "outputs": [],
   "source": [
    "# Import required module\n",
    "import requests\n",
    "import json"
   ]
  },
  {
   "cell_type": "markdown",
   "metadata": {},
   "source": [
    "Get the real-time prize information, including prize name, prize money, and draw numbers."
   ]
  },
  {
   "cell_type": "code",
   "execution_count": 2,
   "metadata": {},
   "outputs": [
    {
     "data": {
      "text/plain": [
       "{'you got nothing so sad :(': 0,\n",
       " 'jackpot': 0,\n",
       " 'second': 1111227,\n",
       " 'third': 41989,\n",
       " 'fourth': 11835,\n",
       " 'fifth': 2000,\n",
       " 'sixth': 1000,\n",
       " 'seventh': 400,\n",
       " 'normal': 400}"
      ]
     },
     "execution_count": 2,
     "metadata": {},
     "output_type": "execute_result"
    }
   ],
   "source": [
    "# Get results data from taiwanlottery api\n",
    "\n",
    "api_url = 'https://api.taiwanlottery.com/TLCAPIWeB/Lottery/LatestResult'\n",
    "response = requests.get(api_url)\n",
    "response.encoding = 'UTF-8'\n",
    "\n",
    "# Use json module to load api data\n",
    "api_data = json.loads(response.text)\n",
    "# Get lotto649 results\n",
    "lotto = api_data['content']['lotto649Result']\n",
    "\n",
    "period = lotto['period']\n",
    "date = lotto['lotteryDate'].split('T')[0]\n",
    "draw_num = lotto['drawNumberSize']\n",
    "normal_num = draw_num[:6]\n",
    "special_num = draw_num[-1]\n",
    "\n",
    "prize_name = ['jackpot', 'second', 'third', 'fourth', 'fifth', 'sixth', 'seventh', 'normal']\n",
    "\n",
    "# Create dictionary to store prize name and prize money\n",
    "prize_dict = {'you got nothing so sad :(': 0} # Set value for no winning\n",
    "for prize in prize_name:\n",
    "    prize_dict[prize] = lotto[f'{prize}Assign']['perPrize']\n",
    "\n",
    "prize_dict\n"
   ]
  },
  {
   "cell_type": "markdown",
   "metadata": {},
   "source": [
    "Create the logic of claiming prize and return the results."
   ]
  },
  {
   "cell_type": "code",
   "execution_count": 5,
   "metadata": {},
   "outputs": [
    {
     "name": "stdout",
     "output_type": "stream",
     "text": [
      "\n",
      "Lottery Period: 113000067\n",
      "Draw Number: [2, 11, 20, 25, 37, 49, 42]\n",
      "Your Number: [11, 42, 5, 37, 9, 49]\n",
      "Your Prize: Sixth (with 3 Numbers + Special Number)\n",
      "Prize Money: NT$1000\n",
      "\n"
     ]
    }
   ],
   "source": [
    "# Define function to return which prize you got\n",
    "def claim_prize(normal,special):\n",
    "    get_prize = ''\n",
    "    if special + normal == 3:\n",
    "        get_prize = prize_name[7].capitalize()\n",
    "    elif special == 1 and normal == 2:\n",
    "        get_prize = prize_name[6].capitalize()\n",
    "    elif special == 1 and normal == 3:\n",
    "        get_prize = prize_name[5].capitalize()\n",
    "    elif special + normal == 4:\n",
    "        get_prize = prize_name[4].capitalize()\n",
    "    elif special == 1 and normal == 4:\n",
    "        get_prize = prize_name[3].capitalize()\n",
    "    elif special + normal == 5:\n",
    "        get_prize = prize_name[2].capitalize()\n",
    "    elif special == 1 and normal == 5:\n",
    "        get_prize = prize_name[1].capitalize()\n",
    "    elif special == 0 and normal == 6:\n",
    "        get_prize = prize_name[0].capitalize()\n",
    "    else: get_prize = 'You got nothing so sad :('\n",
    "    return get_prize\n",
    "\n",
    "# For users to input their numbers\n",
    "your_num = []\n",
    "for i in range(6):\n",
    "    your_num.append(int(input('Please enter your lottery number:\\n')))\n",
    "\n",
    "# Count how many numbers you won\n",
    "win_special = 'NO Special Number'\n",
    "win_normal_count = 0\n",
    "win_special_count = 0\n",
    "\n",
    "for num in your_num:\n",
    "    if num in normal_num:\n",
    "        win_normal_count += 1\n",
    "    if num == special_num:\n",
    "        win_special = 'Special Number'\n",
    "        win_special_count = 1\n",
    "\n",
    "your_prize = claim_prize(win_normal_count,win_special_count)\n",
    "\n",
    "# Print the final results with all information\n",
    "print(f'''\n",
    "Lottery Period: {period}\n",
    "Draw Number: {draw_num}\n",
    "Your Number: {your_num}\n",
    "Your Prize: {your_prize} (with {win_normal_count} Numbers + {win_special})\n",
    "Prize Money: NT${prize_dict[your_prize.lower()]}\n",
    "''')\n"
   ]
  }
 ],
 "metadata": {
  "kernelspec": {
   "display_name": "LineBot",
   "language": "python",
   "name": "python3"
  },
  "language_info": {
   "codemirror_mode": {
    "name": "ipython",
    "version": 3
   },
   "file_extension": ".py",
   "mimetype": "text/x-python",
   "name": "python",
   "nbconvert_exporter": "python",
   "pygments_lexer": "ipython3",
   "version": "3.11.7"
  }
 },
 "nbformat": 4,
 "nbformat_minor": 2
}
